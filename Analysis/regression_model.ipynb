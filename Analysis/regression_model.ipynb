{
 "cells": [
  {
   "cell_type": "code",
   "execution_count": 1,
   "outputs": [],
   "source": [
    "\"\"\"\n",
    "Imports\n",
    "\"\"\"\n",
    "from functions import *\n",
    "import pandas as pd\n",
    "from matplotlib import pyplot as plt\n",
    "import matplotlib.dates as mdates\n",
    "from datetime import datetime, timedelta\n",
    "import numpy as np\n",
    "import plotly.express as px\n",
    "import plotly.graph_objects as go\n",
    "import plotly.io as pio\n",
    "from plotly.subplots import make_subplots"
   ],
   "metadata": {
    "collapsed": false,
    "pycharm": {
     "name": "#%%\n"
    }
   }
  },
  {
   "cell_type": "code",
   "execution_count": 2,
   "outputs": [],
   "source": [
    "def poly_features(X, degree):\n",
    "    matrix = np.zeros((X.shape[0], degree))\n",
    "    for i in range(X.shape[0]):\n",
    "        for j in range(0, degree):\n",
    "            matrix[i, j] = X[i,] ** (j + 1)\n",
    "    # print(matrix)\n",
    "    return matrix\n",
    "\n",
    "def linear_fit(X, Y):\n",
    "    if type(X.T.dot(X)) == type(np.float64(0.1)):\n",
    "        return 1/(X.T.dot(X)) * (X.T).dot(Y)\n",
    "    else:\n",
    "        return np.linalg.inv(X.T.dot(X)).dot(X.T).dot(Y)\n",
    "    # return np.linalg.inv(X.T.dot(X)).dot(X.T).dot(Y) if type(X.T.dot(X)) != type(1) else 1/(X.T.dot(X)) * (X.T).dot(Y)\n",
    "\n",
    "def offset(a, X, Y):\n",
    "    temp = np.tile(np.array(np.sum(X)/X.shape[0]), a.shape)\n",
    "    if type(a) == type(np.float64(0.1)):\n",
    "        return np.sum(Y)/Y.shape[0] - temp * a\n",
    "    else:\n",
    "        return np.sum(Y)/Y.shape[0] - temp.T.dot(a)\n",
    "\n",
    "def cross_val(X, Y, degree, off=False, folds=10):\n",
    "    train_size = int(X.shape[0] * 0.8)\n",
    "    errors = []\n",
    "    r_squareds = []\n",
    "    row_index = np.array([i for i in range(X.shape[0])])\n",
    "    for fold in range(folds):\n",
    "        rows = np.random.choice(X.shape[0], train_size, replace=False)\n",
    "        not_rows = []\n",
    "        for i in row_index:\n",
    "            if i not in rows:\n",
    "                not_rows.append(i)\n",
    "        train_data = X[rows]\n",
    "        train_label = Y[rows]\n",
    "        test_data = X[np.array(not_rows)]\n",
    "        test_label = Y[np.array(not_rows)]\n",
    "        X_poly = poly_features(train_data, degree)\n",
    "        test_poly = poly_features(test_data, degree)\n",
    "        a = linear_fit(X_poly, train_label)\n",
    "        if off:\n",
    "            b = offset(a, X_poly, Y)\n",
    "        else:\n",
    "            b = 0\n",
    "        Y_ = test_poly.dot(a) + b\n",
    "        errors.append(calc_error(test_label, Y_))\n",
    "        r_squareds.append(r_squared(test_label, Y_))\n",
    "\n",
    "    return sum(errors)/len(errors), sum(r_squareds)/len(r_squareds)\n",
    "\n",
    "def calc_error(Y, Y_hat):\n",
    "    return np.sum((Y-Y_hat)**2/Y.shape[0])\n",
    "\n",
    "def r_squared(Y, Y_hat):\n",
    "    return 1 - np.sum((Y-Y_hat) ** 2)/np.sum((Y-np.sum(Y)/Y.shape[0])**2)\n",
    "\n",
    "def bic(Y, Y_hat, k):\n",
    "    temp = Y - Y_hat\n",
    "    n = Y.shape[0]\n",
    "    return n * np.log(temp.dot(temp.T)/n) + k * np.log(n)"
   ],
   "metadata": {
    "collapsed": false,
    "pycharm": {
     "name": "#%%\n"
    }
   }
  },
  {
   "cell_type": "code",
   "execution_count": 3,
   "outputs": [
    {
     "name": "stdout",
     "output_type": "stream",
     "text": [
      "6    Beta-08\n",
      "Name: Out, dtype: object\n",
      "6    Beta-13\n",
      "Name: In, dtype: object\n",
      "6    Beta-08\n",
      "Name: Out, dtype: object\n",
      "6    Beta-13\n",
      "Name: In, dtype: object\n"
     ]
    },
    {
     "name": "stderr",
     "output_type": "stream",
     "text": [
      "D:\\pythonProject\\AeroSpecProject\\functions.py:790: UserWarning: Boolean Series key will be reindexed to match DataFrame index.\n",
      "  df_temp = df[df[\"Device Name\"] == df_users[df_users[\"User\"] == \"MEB\"][in_or_out].values[0]] \\\n",
      "D:\\pythonProject\\AeroSpecProject\\functions.py:799: UserWarning: Boolean Series key will be reindexed to match DataFrame index.\n",
      "  df_temp = pd.merge(df_temp, df[df[\"Device Name\"] == df_out_users[i]] \\\n",
      "<ipython-input-3-bb40ea7c5dec>:25: UserWarning: Boolean Series key will be reindexed to match DataFrame index.\n",
      "  df_temp = df[df[\"Device Name\"] == device] \\\n"
     ]
    }
   ],
   "source": [
    "\"\"\"\n",
    "Read files\n",
    "df_users: for Outdoor\n",
    "df_users_split: for Indoor\n",
    "\"\"\"\n",
    "df = pd.read_csv(\"Results/1_HourAverage.csv\")\n",
    "df['PT DateTime'] = pd.to_datetime(df['PT DateTime'])\n",
    "df_users = pd.read_excel(\"D:/UW/AeroSpec - Sensor Network/2020 Wildfire/Data/Device Locations and Users.xlsx\",\n",
    "                             engine='openpyxl')\n",
    "df_users = df_users[df_users['In'].notna()].reset_index(drop=True)\n",
    "df_users_split = pd.read_excel(\n",
    "    \"D:/UW/AeroSpec - Sensor Network/2020 Wildfire/Data/Device Locations and Users Split.xlsx\", engine='openpyxl')\n",
    "df_users_split = df_users_split[df_users_split['In'].notna()].reset_index(drop=True)\n",
    "df_10min = pd.read_csv(\"Results/2_10MinAverage.csv\")\n",
    "df_10min['PT DateTime'] = pd.to_datetime(df_10min['PT DateTime'])\n",
    "df_10sec = pd.read_csv(\"Results/3_10SecAverage.csv\")\n",
    "df_10sec['PT DateTime'] = pd.to_datetime(df_10sec['PT DateTime'])\n",
    "public_sensors = [\"Lake Forest Park\", \"Seattle 10th & Weller\"]\n",
    "df_out = average(df, df_users, \"Out\", \"PM2.5_Env\",end=\"9/21/2020 0:00\")\n",
    "df_in = average(df, df_users_split, \"In\", \"PM2.5_Env\", breakout=True, end=\"9/21/2020 0:00\")\n",
    "df_out10min = average(df_10min, df_users, \"Out\", \"PM2.5_Env\", end=\"9/21/2020 0:00\")\n",
    "df_in10min = average(df_10min, df_users_split, \"In\", \"PM2.5_Env\", breakout=True, end=\"9/21/2020 0:00\")\n",
    "dfs = []\n",
    "for device in public_sensors:\n",
    "    df_temp = df[df[\"Device Name\"] == device] \\\n",
    "        [(df[\"PT DateTime\"] >= \"9/10/2020 0:00\") & (df[\"PT DateTime\"] <= \"9/21/2020 0:00\")] \\\n",
    "        [[\"PT DateTime\", \"PM2.5_Std\"]]\n",
    "    df_temp.rename(columns={\"PM2.5_Std\": device}, inplace=True)\n",
    "    dfs.append(df_temp)\n",
    "df_pub = pd.merge(dfs[0], dfs[1], on=\"PT DateTime\", how=\"left\")\n",
    "cols = list(df_pub.columns)\n",
    "cols.pop(0)\n",
    "df_pub[\"Average\"] = df_pub[cols].mean(axis=1)"
   ],
   "metadata": {
    "collapsed": false,
    "pycharm": {
     "name": "#%%\n"
    }
   }
  },
  {
   "cell_type": "code",
   "execution_count": 16,
   "outputs": [
    {
     "data": {
      "text/plain": "0.9663463138547197"
     },
     "execution_count": 16,
     "metadata": {},
     "output_type": "execute_result"
    }
   ],
   "source": [
    "df_pub\n",
    "df_pub[\"Lake Forest Park\"].corr(df_pub[\"Seattle 10th & Weller\"])"
   ],
   "metadata": {
    "collapsed": false,
    "pycharm": {
     "name": "#%%\n"
    }
   }
  },
  {
   "cell_type": "code",
   "execution_count": 4,
   "outputs": [
    {
     "name": "stderr",
     "output_type": "stream",
     "text": [
      "C:\\Users\\a1295\\anaconda3\\envs\\AeroSpecProject\\lib\\site-packages\\pandas\\core\\frame.py:4300: SettingWithCopyWarning: \n",
      "A value is trying to be set on a copy of a slice from a DataFrame\n",
      "\n",
      "See the caveats in the documentation: https://pandas.pydata.org/pandas-docs/stable/user_guide/indexing.html#returning-a-view-versus-a-copy\n",
      "  return super().rename(\n"
     ]
    },
    {
     "data": {
      "text/plain": "            PT DateTime    Beta-08    Beta-16    Beta-17    Beta-03  \\\n7   2020-09-10 13:00:00  54.094444  52.225000  51.569444  43.948052   \n8   2020-09-10 14:00:00  54.677778  62.163889  55.711111  48.044379   \n9   2020-09-10 15:00:00  60.744444  98.450000  61.961111  48.099707   \n10  2020-09-10 16:00:00  57.036111  59.302778  62.652778  57.267267   \n11  2020-09-10 17:00:00  70.855556  66.683333  71.086111  67.093023   \n..                  ...        ...        ...        ...        ...   \n254 2020-09-20 20:00:00   2.027778  10.175000   2.716667   0.658263   \n255 2020-09-20 21:00:00   4.111111   6.230556   6.280556   1.814085   \n256 2020-09-20 22:00:00   5.244444   6.625000   6.850000   2.311798   \n257 2020-09-20 23:00:00  12.188889   7.733333   9.194444   4.151261   \n258 2020-09-21 00:00:00   5.036111   8.488889  10.588889   3.464789   \n\n     Breakout-08  Breakout-06  Reference Average  \n7      46.850000    42.870000              32.55  \n8      48.970833    43.640000              35.05  \n9      50.495833    47.629630              34.90  \n10     48.295833    46.906040              38.95  \n11     58.500000    51.849498              40.50  \n..           ...          ...                ...  \n254     5.350000     2.208333               6.95  \n255     6.041667     1.187500               6.75  \n256     6.800000     3.387500               7.45  \n257    10.241667     3.383333               9.45  \n258     9.629167     3.491667              11.80  \n\n[252 rows x 8 columns]",
      "text/html": "<div>\n<style scoped>\n    .dataframe tbody tr th:only-of-type {\n        vertical-align: middle;\n    }\n\n    .dataframe tbody tr th {\n        vertical-align: top;\n    }\n\n    .dataframe thead th {\n        text-align: right;\n    }\n</style>\n<table border=\"1\" class=\"dataframe\">\n  <thead>\n    <tr style=\"text-align: right;\">\n      <th></th>\n      <th>PT DateTime</th>\n      <th>Beta-08</th>\n      <th>Beta-16</th>\n      <th>Beta-17</th>\n      <th>Beta-03</th>\n      <th>Breakout-08</th>\n      <th>Breakout-06</th>\n      <th>Reference Average</th>\n    </tr>\n  </thead>\n  <tbody>\n    <tr>\n      <th>7</th>\n      <td>2020-09-10 13:00:00</td>\n      <td>54.094444</td>\n      <td>52.225000</td>\n      <td>51.569444</td>\n      <td>43.948052</td>\n      <td>46.850000</td>\n      <td>42.870000</td>\n      <td>32.55</td>\n    </tr>\n    <tr>\n      <th>8</th>\n      <td>2020-09-10 14:00:00</td>\n      <td>54.677778</td>\n      <td>62.163889</td>\n      <td>55.711111</td>\n      <td>48.044379</td>\n      <td>48.970833</td>\n      <td>43.640000</td>\n      <td>35.05</td>\n    </tr>\n    <tr>\n      <th>9</th>\n      <td>2020-09-10 15:00:00</td>\n      <td>60.744444</td>\n      <td>98.450000</td>\n      <td>61.961111</td>\n      <td>48.099707</td>\n      <td>50.495833</td>\n      <td>47.629630</td>\n      <td>34.90</td>\n    </tr>\n    <tr>\n      <th>10</th>\n      <td>2020-09-10 16:00:00</td>\n      <td>57.036111</td>\n      <td>59.302778</td>\n      <td>62.652778</td>\n      <td>57.267267</td>\n      <td>48.295833</td>\n      <td>46.906040</td>\n      <td>38.95</td>\n    </tr>\n    <tr>\n      <th>11</th>\n      <td>2020-09-10 17:00:00</td>\n      <td>70.855556</td>\n      <td>66.683333</td>\n      <td>71.086111</td>\n      <td>67.093023</td>\n      <td>58.500000</td>\n      <td>51.849498</td>\n      <td>40.50</td>\n    </tr>\n    <tr>\n      <th>...</th>\n      <td>...</td>\n      <td>...</td>\n      <td>...</td>\n      <td>...</td>\n      <td>...</td>\n      <td>...</td>\n      <td>...</td>\n      <td>...</td>\n    </tr>\n    <tr>\n      <th>254</th>\n      <td>2020-09-20 20:00:00</td>\n      <td>2.027778</td>\n      <td>10.175000</td>\n      <td>2.716667</td>\n      <td>0.658263</td>\n      <td>5.350000</td>\n      <td>2.208333</td>\n      <td>6.95</td>\n    </tr>\n    <tr>\n      <th>255</th>\n      <td>2020-09-20 21:00:00</td>\n      <td>4.111111</td>\n      <td>6.230556</td>\n      <td>6.280556</td>\n      <td>1.814085</td>\n      <td>6.041667</td>\n      <td>1.187500</td>\n      <td>6.75</td>\n    </tr>\n    <tr>\n      <th>256</th>\n      <td>2020-09-20 22:00:00</td>\n      <td>5.244444</td>\n      <td>6.625000</td>\n      <td>6.850000</td>\n      <td>2.311798</td>\n      <td>6.800000</td>\n      <td>3.387500</td>\n      <td>7.45</td>\n    </tr>\n    <tr>\n      <th>257</th>\n      <td>2020-09-20 23:00:00</td>\n      <td>12.188889</td>\n      <td>7.733333</td>\n      <td>9.194444</td>\n      <td>4.151261</td>\n      <td>10.241667</td>\n      <td>3.383333</td>\n      <td>9.45</td>\n    </tr>\n    <tr>\n      <th>258</th>\n      <td>2020-09-21 00:00:00</td>\n      <td>5.036111</td>\n      <td>8.488889</td>\n      <td>10.588889</td>\n      <td>3.464789</td>\n      <td>9.629167</td>\n      <td>3.491667</td>\n      <td>11.80</td>\n    </tr>\n  </tbody>\n</table>\n<p>252 rows × 8 columns</p>\n</div>"
     },
     "execution_count": 4,
     "metadata": {},
     "output_type": "execute_result"
    }
   ],
   "source": [
    "df_out1 = df_out[[\"PT DateTime\", \"Beta-08\", \"Beta-16\", \"Beta-17\", \"Beta-03\", \"Breakout-08\", \"Breakout-06\"]]\n",
    "df_pub1 = df_pub[[\"PT DateTime\", \"Average\"]]\n",
    "df_pub1.rename(columns={\"Average\": \"Reference Average\"}, inplace=True)\n",
    "df_test = pd.merge(df_out1, df_pub1, on=\"PT DateTime\").dropna()\n",
    "df_test"
   ],
   "metadata": {
    "collapsed": false,
    "pycharm": {
     "name": "#%%\n"
    }
   }
  },
  {
   "cell_type": "code",
   "execution_count": 5,
   "outputs": [],
   "source": [
    "df_in1 = df_in[[\"PT DateTime\",\"Beta-12\", \"Beta-11\",\"Beta-14\", \"Beta-18\", \"Beta-07\", \"Beta-06\"]]\n",
    "df_test2 = pd.merge(df_in1, df_pub1, on=\"PT DateTime\").dropna()\n",
    "X_in = df_test2[[\"Beta-12\", \"Beta-11\",\"Beta-14\", \"Beta-18\", \"Beta-07\", \"Beta-06\"]].to_numpy().flatten(order=\"F\")\n",
    "Y_in = np.tile(df_test[\"Reference Average\"].to_numpy(), 6)\n",
    "Y_meb2 = df_test2[\"Reference Average\"].to_numpy()"
   ],
   "metadata": {
    "collapsed": false,
    "pycharm": {
     "name": "#%%\n"
    }
   }
  },
  {
   "cell_type": "code",
   "execution_count": 6,
   "outputs": [],
   "source": [
    "X = df_test[[\"Beta-08\", \"Beta-16\", \"Beta-17\", \"Beta-03\", \"Breakout-08\", \"Breakout-06\"]].to_numpy().flatten(order=\"F\")\n",
    "Y = np.tile(df_test[\"Reference Average\"].to_numpy(), 6)\n",
    "X_meb = df_test[\"Beta-08\"].to_numpy()\n",
    "Y_meb = df_test[\"Reference Average\"].to_numpy()"
   ],
   "metadata": {
    "collapsed": false,
    "pycharm": {
     "name": "#%%\n"
    }
   }
  },
  {
   "cell_type": "code",
   "execution_count": 10,
   "outputs": [
    {
     "data": {
      "text/plain": "18.4746922073049"
     },
     "execution_count": 10,
     "metadata": {},
     "output_type": "execute_result"
    }
   ],
   "source": [
    "np.sqrt(calc_error(Y_meb, X_meb))"
   ],
   "metadata": {
    "collapsed": false,
    "pycharm": {
     "name": "#%%\n"
    }
   }
  },
  {
   "cell_type": "code",
   "execution_count": null,
   "outputs": [],
   "source": [
    "# linear regression cross validation\n",
    "error_total_no_off, r_sqaured_total_no_off = cross_val(X, Y, 1)\n",
    "error_total_off, r_squared_total_off = cross_val(X, Y, 1, off=True)\n",
    "error_meb_no_off, r_squared_meb_no_off = cross_val(X_meb, Y_meb, 1)\n",
    "error_meb_off, r_squared_meb_off = cross_val(X_meb, Y_meb, 1, off=True)"
   ],
   "metadata": {
    "collapsed": false,
    "pycharm": {
     "name": "#%%\n"
    }
   }
  },
  {
   "cell_type": "code",
   "execution_count": 8,
   "outputs": [
    {
     "name": "stdout",
     "output_type": "stream",
     "text": [
      "206.0715362675306\n",
      "Linear R squared:  0.9040911517970232\n",
      "Linear MSE:  19.017699750257478\n",
      "Linear R squared:  0.8377039567922299\n",
      "Linear MSE:  24.73902700653241\n",
      "Linear R squared:  0.8910743486929965\n",
      "Linear MSE:  20.26719898702703\n",
      "Linear R squared:  0.881066688135622\n",
      "Linear MSE:  21.17777866614945\n",
      "Linear R squared:  0.9171922742796577\n",
      "Linear MSE:  17.671120051235846\n",
      "Linear R squared:  0.9094898831062698\n",
      "Linear MSE:  18.4746922073049\n",
      "----------------------\n",
      "Linear R squared:  0.9247898507265576\n",
      "Linear MSE:  16.84096115445021\n",
      "Linear R squared:  0.9181718946184481\n",
      "Linear MSE:  17.566283871639506\n",
      "Linear R squared:  0.8995080300619633\n",
      "Linear MSE:  19.46678931678445\n",
      "Linear R squared:  0.925765665054037\n",
      "Linear MSE:  16.731352912824306\n",
      "Linear R squared:  0.9372922062646438\n",
      "Linear MSE:  15.377630077682351\n",
      "Linear R squared:  0.9453537063913945\n",
      "Linear MSE:  14.35519196205786\n",
      "0.9038691309602482\n"
     ]
    }
   ],
   "source": [
    "## train with MEB, test with other locations\n",
    "a_meb = linear_fit(X_meb, Y_meb)\n",
    "X_meb_poly = poly_features(X_meb, 2)\n",
    "a_meb_poly = linear_fit(X_meb_poly, Y_meb)\n",
    "\n",
    "print(calc_error(Y_meb, X_meb.dot(a_meb)))\n",
    "for device in [\"Beta-03\",\"Beta-16\", \"Breakout-06\", \"Beta-17\", \"Breakout-08\", \"Beta-08\"]:\n",
    "    X_meb1 = df_test[device].to_numpy()\n",
    "    print(\"Linear R squared: \", r_squared(Y_meb, X_meb1))\n",
    "    print(\"Linear MSE: \", np.sqrt(calc_error(Y_meb, X_meb1)))\n",
    "print(\"----------------------\")\n",
    "for device in [\"Beta-03\",\"Beta-16\", \"Breakout-06\", \"Beta-17\", \"Breakout-08\", \"Beta-08\"]:\n",
    "    X_meb1 = df_test[device].to_numpy()\n",
    "    # X_meb_poly1 = poly_features(df_test[device].to_numpy(), 2)\n",
    "    Y_hat_meb = X_meb1.dot(a_meb)\n",
    "    # Y_hat_meb_poly = X_meb_poly1.dot(a_meb_poly)\n",
    "    # print(device + \" Linear BIC: \", bic(Y_meb, Y_hat_meb, 1))\n",
    "    # print(device + \" Poly BIC: \", bic(Y_meb, Y_hat_meb_poly, 2))\n",
    "    print(\"Linear R squared: \", r_squared(Y_meb, Y_hat_meb))\n",
    "    print(\"Linear MSE: \", np.sqrt(calc_error(Y_meb, Y_hat_meb)))\n",
    "    # print(\"Poly R squared: \", r_squared(Y_meb, Y_hat_meb_poly))\n",
    "    # print(\"Poly MSE: \", calc_error(Y_meb, Y_hat_meb_poly))\n",
    "# print(\"----------------------\")\n",
    "# for device in [\"Beta-12\", \"Beta-11\",\"Beta-14\", \"Beta-18\", \"Beta-07\", \"Beta-06\"]:\n",
    "#     X_meb3 = df_test2[device].to_numpy()\n",
    "#     Y_hat_meb2 = X_meb3.dot(a_meb)\n",
    "#     print(\"Linear R squared: \", r_squared(Y_meb2, Y_hat_meb2))\n",
    "print(a_meb)"
   ],
   "metadata": {
    "collapsed": false,
    "pycharm": {
     "name": "#%%\n"
    }
   }
  },
  {
   "cell_type": "code",
   "execution_count": 17,
   "outputs": [
    {
     "name": "stdout",
     "output_type": "stream",
     "text": [
      "18.4746922073049\n"
     ]
    }
   ],
   "source": [
    "print(np.sqrt(calc_error(X_meb, Y_meb)))"
   ],
   "metadata": {
    "collapsed": false,
    "pycharm": {
     "name": "#%%\n"
    }
   }
  },
  {
   "cell_type": "code",
   "execution_count": 13,
   "outputs": [
    {
     "name": "stdout",
     "output_type": "stream",
     "text": [
      "0.922228226420406\n",
      "0.9425255956033542\n"
     ]
    }
   ],
   "source": [
    "print(r_squared(X_meb, Y_meb))\n",
    "print(r_squared(X_meb.dot(a_meb), Y_meb))"
   ],
   "metadata": {
    "collapsed": false,
    "pycharm": {
     "name": "#%%\n"
    }
   }
  },
  {
   "cell_type": "code",
   "execution_count": 27,
   "outputs": [
    {
     "name": "stdout",
     "output_type": "stream",
     "text": [
      "Linear R squared:  0.8861150568622362\n",
      "Linear MSE:  446.66761505960994\n"
     ]
    }
   ],
   "source": [
    "df_saad = df_out[[\"PT DateTime\", \"Beta-01\"]]\n",
    "df_saad = pd.merge(df_saad, df_pub1, how=\"left\", on=\"PT DateTime\")\n",
    "df_saad = df_saad.dropna()\n",
    "Y_meb3 = df_saad[\"Reference Average\"].to_numpy()\n",
    "X_meb2 = df_saad[\"Beta-01\"].to_numpy()\n",
    "Y_hat_meb2 = X_meb2.dot(a_meb)\n",
    "print(\"Linear R squared: \", r_squared(Y_meb3, Y_hat_meb2))\n",
    "print(\"Linear MSE: \", calc_error(Y_meb3, Y_hat_meb2))"
   ],
   "metadata": {
    "collapsed": false,
    "pycharm": {
     "name": "#%% SCREW U SAAD\n"
    }
   }
  },
  {
   "cell_type": "code",
   "execution_count": 11,
   "outputs": [],
   "source": [
    "%matplotlib qt\n",
    "fig = plt.figure(figsize=(15,15))\n",
    "plt.rc('xtick', labelsize=30)\n",
    "plt.rc('ytick', labelsize=30)\n",
    "plt.scatter(Y_meb, X_meb, label=\"original\")\n",
    "plt.scatter(Y_meb, X_meb.dot(a_meb), label=\"calibrated\")\n",
    "# plt.scatter(X_meb.dot(a_meb), X_meb, label=\"Regression Line\")\n",
    "plt.plot(X_meb, X_meb, \"g\")\n",
    "plt.xlabel(\"Reference PM2.5 Concentration (µg/$m^{3}$)\", fontsize=30)\n",
    "plt.ylabel(\"Calibrated data (µg/$m^{3}$)\", fontsize=30)\n",
    "plt.legend(prop={'size': 30})\n",
    "plt.show()"
   ],
   "metadata": {
    "collapsed": false,
    "pycharm": {
     "name": "#%%\n"
    }
   }
  },
  {
   "cell_type": "code",
   "execution_count": null,
   "outputs": [],
   "source": [
    "%matplotlib qt\n",
    "names = [\"MEB\", \"Igor\", \"Stephanie\", \"Alex\", \"Edmund\", \"Brad\"]\n",
    "for i, device in enumerate([\"Beta-08\", \"Beta-16\", \"Beta-17\", \"Beta-03\", \"Breakout-08\", \"Breakout-06\"]):\n",
    "    fig = plt.figure(figsize=(7,4))\n",
    "    plt.rc('xtick', labelsize=20)\n",
    "    plt.rc('ytick', labelsize=20)\n",
    "    plt.plot(df_out[\"PT DateTime\"], df_out[device], label=\"Original\", color=\"blue\")\n",
    "    # plt.plot(df_out[\"PT DateTime\"], a_total*df_out[device], label=\"Corrected\", color=\"red\")\n",
    "    plt.plot(df_out[\"PT DateTime\"], poly_features(df_out[device].to_numpy(),2).dot(a_total_poly), label=\"Corrected\", color=\"red\")\n",
    "    plt.plot(df_test[\"PT DateTime\"], df_test[\"Reference Average\"], label=\"Ref Average\", color=\"green\")\n",
    "    plt.xlabel(\"Date\", fontsize=30)\n",
    "    plt.ylabel(\"PM2.5 Concentration\", fontsize=30)\n",
    "    plt.title(names[i], fontsize=30)\n",
    "    if device == \"Beta-08\":\n",
    "        plt.legend(prop={'size': 20})\n",
    "    dtfmt = mdates.DateFormatter(\"%m-%d\")\n",
    "    plt.gca().xaxis.set_major_formatter(dtfmt)\n",
    "    plt.show()"
   ],
   "metadata": {
    "collapsed": false,
    "pycharm": {
     "name": "#%%\n"
    }
   }
  },
  {
   "cell_type": "code",
   "execution_count": null,
   "outputs": [],
   "source": [
    "## poly regression\n",
    "%matplotlib qt\n",
    "min_error_indices = []\n",
    "for i in range(30):\n",
    "    errors = []\n",
    "    for degree in range(1, 11):\n",
    "        errors.append(cross_val(X, Y, degree, folds=10))\n",
    "    min_error_indices.append(errors.index(min(errors)))\n",
    "#     plt.plot(xs, errors)\n",
    "# plt.show()\n",
    "# print(min(errors), errors.index(min(errors)))\n"
   ],
   "metadata": {
    "collapsed": false,
    "pycharm": {
     "name": "#%%\n"
    }
   }
  },
  {
   "cell_type": "code",
   "execution_count": null,
   "outputs": [],
   "source": [
    "errors = []\n",
    "for degree in range(1, 11):\n",
    "    errors.append(cross_val(X, Y, degree, folds=10))"
   ],
   "metadata": {
    "collapsed": false,
    "pycharm": {
     "name": "#%%\n"
    }
   }
  },
  {
   "cell_type": "code",
   "execution_count": null,
   "outputs": [],
   "source": [
    "%matplotlib qt\n",
    "xs = [i+1 for i in range(len(errors))]\n",
    "plt.plot(xs, errors)\n",
    "plt.xlabel(\"degree\", fontsize=30)\n",
    "plt.ylabel(\"error\", fontsize=30)"
   ],
   "metadata": {
    "collapsed": false,
    "pycharm": {
     "name": "#%%\n"
    }
   }
  }
 ],
 "metadata": {
  "kernelspec": {
   "display_name": "Python 3",
   "language": "python",
   "name": "python3"
  },
  "language_info": {
   "codemirror_mode": {
    "name": "ipython",
    "version": 2
   },
   "file_extension": ".py",
   "mimetype": "text/x-python",
   "name": "python",
   "nbconvert_exporter": "python",
   "pygments_lexer": "ipython2",
   "version": "2.7.6"
  }
 },
 "nbformat": 4,
 "nbformat_minor": 0
}